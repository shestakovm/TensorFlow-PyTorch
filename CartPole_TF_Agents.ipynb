{
  "nbformat": 4,
  "nbformat_minor": 0,
  "metadata": {
    "colab": {
      "provenance": [],
      "authorship_tag": "ABX9TyNHDfHS3Tdnss75YufPDKD2",
      "include_colab_link": true
    },
    "kernelspec": {
      "name": "python3",
      "display_name": "Python 3"
    },
    "language_info": {
      "name": "python"
    }
  },
  "cells": [
    {
      "cell_type": "markdown",
      "metadata": {
        "id": "view-in-github",
        "colab_type": "text"
      },
      "source": [
        "<a href=\"https://colab.research.google.com/github/shestakovm/CartPole/blob/master/CartPole_TF_Agents.ipynb\" target=\"_parent\"><img src=\"https://colab.research.google.com/assets/colab-badge.svg\" alt=\"Open In Colab\"/></a>"
      ]
    },
    {
      "cell_type": "code",
      "source": [
        "!sudo apt-get update\n",
        "!sudo apt-get install -y xvfb ffmpeg freeglut3-dev\n",
        "!pip install 'imageio==2.4.0'\n",
        "!pip install pyvirtualdisplay\n",
        "!pip install tf-agents[reverb]\n",
        "!pip install pyglet"
      ],
      "metadata": {
        "colab": {
          "base_uri": "https://localhost:8080/"
        },
        "id": "yiDxD-nZdLxW",
        "outputId": "8f93c38f-aaa2-4142-809e-ac300169b562"
      },
      "execution_count": null,
      "outputs": [
        {
          "output_type": "stream",
          "name": "stdout",
          "text": [
            "\r0% [Working]\r            \rGet:1 https://cloud.r-project.org/bin/linux/ubuntu bionic-cran40/ InRelease [3,626 B]\n",
            "\r0% [Connecting to archive.ubuntu.com (91.189.91.38)] [Waiting for headers] [1 I\r0% [Connecting to archive.ubuntu.com (91.189.91.38)] [Waiting for headers] [Wai\r0% [1 InRelease gpgv 3,626 B] [Connecting to archive.ubuntu.com (91.189.91.38)]\r                                                                               \rIgn:2 https://developer.download.nvidia.com/compute/machine-learning/repos/ubuntu1804/x86_64  InRelease\n",
            "\r0% [1 InRelease gpgv 3,626 B] [Connecting to archive.ubuntu.com (91.189.91.38)]\r                                                                               \rHit:3 https://developer.download.nvidia.com/compute/cuda/repos/ubuntu1804/x86_64  InRelease\n",
            "\r0% [1 InRelease gpgv 3,626 B] [Connecting to archive.ubuntu.com (91.189.91.38)]\r                                                                               \rGet:4 http://security.ubuntu.com/ubuntu bionic-security InRelease [88.7 kB]\n",
            "Hit:5 https://developer.download.nvidia.com/compute/machine-learning/repos/ubuntu1804/x86_64  Release\n",
            "Hit:6 http://archive.ubuntu.com/ubuntu bionic InRelease\n",
            "Get:7 https://cloud.r-project.org/bin/linux/ubuntu bionic-cran40/ Packages [91.7 kB]\n",
            "Get:8 http://archive.ubuntu.com/ubuntu bionic-updates InRelease [88.7 kB]\n",
            "Get:9 http://ppa.launchpad.net/c2d4u.team/c2d4u4.0+/ubuntu bionic InRelease [15.9 kB]\n",
            "Get:11 http://archive.ubuntu.com/ubuntu bionic-backports InRelease [74.6 kB]\n",
            "Get:12 http://security.ubuntu.com/ubuntu bionic-security/restricted amd64 Packages [1,131 kB]\n",
            "Hit:13 http://ppa.launchpad.net/cran/libgit2/ubuntu bionic InRelease\n",
            "Get:14 http://archive.ubuntu.com/ubuntu bionic-updates/restricted amd64 Packages [1,172 kB]\n",
            "Get:15 http://ppa.launchpad.net/deadsnakes/ppa/ubuntu bionic InRelease [15.9 kB]\n",
            "Get:16 http://security.ubuntu.com/ubuntu bionic-security/main amd64 Packages [2,965 kB]\n",
            "Get:17 http://archive.ubuntu.com/ubuntu bionic-updates/main amd64 Packages [3,396 kB]\n",
            "Get:18 http://security.ubuntu.com/ubuntu bionic-security/universe amd64 Packages [1,540 kB]\n",
            "Hit:19 http://ppa.launchpad.net/graphics-drivers/ppa/ubuntu bionic InRelease\n",
            "Get:20 http://ppa.launchpad.net/c2d4u.team/c2d4u4.0+/ubuntu bionic/main Sources [2,099 kB]\n",
            "Get:21 http://ppa.launchpad.net/c2d4u.team/c2d4u4.0+/ubuntu bionic/main amd64 Packages [1,076 kB]\n",
            "Get:22 http://ppa.launchpad.net/deadsnakes/ppa/ubuntu bionic/main amd64 Packages [45.2 kB]\n",
            "Fetched 13.8 MB in 4s (3,212 kB/s)\n",
            "Reading package lists... Done\n",
            "Reading package lists... Done\n",
            "Building dependency tree       \n",
            "Reading state information... Done\n",
            "freeglut3-dev is already the newest version (2.8.1-3).\n",
            "freeglut3-dev set to manually installed.\n",
            "ffmpeg is already the newest version (7:3.4.11-0ubuntu0.1).\n",
            "The following package was automatically installed and is no longer required:\n",
            "  libnvidia-common-460\n",
            "Use 'sudo apt autoremove' to remove it.\n",
            "The following NEW packages will be installed:\n",
            "  xvfb\n",
            "0 upgraded, 1 newly installed, 0 to remove and 37 not upgraded.\n",
            "Need to get 785 kB of archives.\n",
            "After this operation, 2,271 kB of additional disk space will be used.\n",
            "Get:1 http://archive.ubuntu.com/ubuntu bionic-updates/universe amd64 xvfb amd64 2:1.19.6-1ubuntu4.11 [785 kB]\n",
            "Fetched 785 kB in 1s (1,429 kB/s)\n",
            "debconf: unable to initialize frontend: Dialog\n",
            "debconf: (No usable dialog-like program is installed, so the dialog based frontend cannot be used. at /usr/share/perl5/Debconf/FrontEnd/Dialog.pm line 76, <> line 1.)\n",
            "debconf: falling back to frontend: Readline\n",
            "debconf: unable to initialize frontend: Readline\n",
            "debconf: (This frontend requires a controlling tty.)\n",
            "debconf: falling back to frontend: Teletype\n",
            "dpkg-preconfigure: unable to re-open stdin: \n",
            "Selecting previously unselected package xvfb.\n",
            "(Reading database ... 155685 files and directories currently installed.)\n",
            "Preparing to unpack .../xvfb_2%3a1.19.6-1ubuntu4.11_amd64.deb ...\n",
            "Unpacking xvfb (2:1.19.6-1ubuntu4.11) ...\n",
            "Setting up xvfb (2:1.19.6-1ubuntu4.11) ...\n",
            "Processing triggers for man-db (2.8.3-2ubuntu0.1) ...\n",
            "Looking in indexes: https://pypi.org/simple, https://us-python.pkg.dev/colab-wheels/public/simple/\n",
            "Collecting imageio==2.4.0\n",
            "  Downloading imageio-2.4.0.tar.gz (3.3 MB)\n",
            "\u001b[K     |████████████████████████████████| 3.3 MB 7.2 MB/s \n",
            "\u001b[?25hRequirement already satisfied: numpy in /usr/local/lib/python3.7/dist-packages (from imageio==2.4.0) (1.21.6)\n",
            "Requirement already satisfied: pillow in /usr/local/lib/python3.7/dist-packages (from imageio==2.4.0) (7.1.2)\n",
            "Building wheels for collected packages: imageio\n",
            "  Building wheel for imageio (setup.py) ... \u001b[?25l\u001b[?25hdone\n",
            "  Created wheel for imageio: filename=imageio-2.4.0-py3-none-any.whl size=3303895 sha256=9db6257a3cbca4dae3972fbad2f0048cee082f754a52df49d44b93b06a96128d\n",
            "  Stored in directory: /root/.cache/pip/wheels/aa/de/2f/6c5a75120d68a2c3138120c8d0ce1c6f9483a4b96307986bf2\n",
            "Successfully built imageio\n",
            "Installing collected packages: imageio\n",
            "  Attempting uninstall: imageio\n",
            "    Found existing installation: imageio 2.9.0\n",
            "    Uninstalling imageio-2.9.0:\n",
            "      Successfully uninstalled imageio-2.9.0\n",
            "Successfully installed imageio-2.4.0\n",
            "Looking in indexes: https://pypi.org/simple, https://us-python.pkg.dev/colab-wheels/public/simple/\n",
            "Collecting pyvirtualdisplay\n",
            "  Downloading PyVirtualDisplay-3.0-py3-none-any.whl (15 kB)\n",
            "Installing collected packages: pyvirtualdisplay\n",
            "Successfully installed pyvirtualdisplay-3.0\n",
            "Looking in indexes: https://pypi.org/simple, https://us-python.pkg.dev/colab-wheels/public/simple/\n",
            "Collecting tf-agents[reverb]\n",
            "  Downloading tf_agents-0.14.0-py3-none-any.whl (1.4 MB)\n",
            "\u001b[K     |████████████████████████████████| 1.4 MB 7.4 MB/s \n",
            "\u001b[?25hCollecting gym<=0.23.0,>=0.17.0\n",
            "  Downloading gym-0.23.0.tar.gz (624 kB)\n",
            "\u001b[K     |████████████████████████████████| 624 kB 28.2 MB/s \n",
            "\u001b[?25h  Installing build dependencies ... \u001b[?25l\u001b[?25hdone\n",
            "  Getting requirements to build wheel ... \u001b[?25l\u001b[?25hdone\n",
            "    Preparing wheel metadata ... \u001b[?25l\u001b[?25hdone\n",
            "Requirement already satisfied: six>=1.10.0 in /usr/local/lib/python3.7/dist-packages (from tf-agents[reverb]) (1.15.0)\n",
            "Requirement already satisfied: typing-extensions>=3.7.4.3 in /usr/local/lib/python3.7/dist-packages (from tf-agents[reverb]) (4.1.1)\n",
            "Requirement already satisfied: wrapt>=1.11.1 in /usr/local/lib/python3.7/dist-packages (from tf-agents[reverb]) (1.14.1)\n",
            "Requirement already satisfied: cloudpickle>=1.3 in /usr/local/lib/python3.7/dist-packages (from tf-agents[reverb]) (1.5.0)\n",
            "Requirement already satisfied: absl-py>=0.6.1 in /usr/local/lib/python3.7/dist-packages (from tf-agents[reverb]) (1.2.0)\n",
            "Collecting pygame==2.1.0\n",
            "  Downloading pygame-2.1.0-cp37-cp37m-manylinux_2_17_x86_64.manylinux2014_x86_64.whl (18.3 MB)\n",
            "\u001b[K     |████████████████████████████████| 18.3 MB 94 kB/s \n",
            "\u001b[?25hRequirement already satisfied: numpy>=1.13.3 in /usr/local/lib/python3.7/dist-packages (from tf-agents[reverb]) (1.21.6)\n",
            "Requirement already satisfied: gin-config>=0.4.0 in /usr/local/lib/python3.7/dist-packages (from tf-agents[reverb]) (0.5.0)\n",
            "Requirement already satisfied: pillow in /usr/local/lib/python3.7/dist-packages (from tf-agents[reverb]) (7.1.2)\n",
            "Requirement already satisfied: protobuf>=3.11.3 in /usr/local/lib/python3.7/dist-packages (from tf-agents[reverb]) (3.17.3)\n",
            "Collecting tensorflow-probability==0.17.0\n",
            "  Downloading tensorflow_probability-0.17.0-py2.py3-none-any.whl (6.5 MB)\n",
            "\u001b[K     |████████████████████████████████| 6.5 MB 33.8 MB/s \n",
            "\u001b[?25hCollecting rlds\n",
            "  Downloading rlds-0.1.5-py3-none-manylinux2010_x86_64.whl (43 kB)\n",
            "\u001b[K     |████████████████████████████████| 43 kB 2.1 MB/s \n",
            "\u001b[?25hCollecting dm-reverb~=0.9.0\n",
            "  Downloading dm_reverb-0.9.0-cp37-cp37m-manylinux2014_x86_64.whl (6.5 MB)\n",
            "\u001b[K     |████████████████████████████████| 6.5 MB 32.0 MB/s \n",
            "\u001b[?25hCollecting tensorflow~=2.10.0\n",
            "  Downloading tensorflow-2.10.0-cp37-cp37m-manylinux_2_17_x86_64.manylinux2014_x86_64.whl (578.0 MB)\n",
            "\u001b[K     |████████████████████████████████| 578.0 MB 13 kB/s \n",
            "\u001b[?25hRequirement already satisfied: gast>=0.3.2 in /usr/local/lib/python3.7/dist-packages (from tensorflow-probability==0.17.0->tf-agents[reverb]) (0.5.3)\n",
            "Requirement already satisfied: dm-tree in /usr/local/lib/python3.7/dist-packages (from tensorflow-probability==0.17.0->tf-agents[reverb]) (0.1.7)\n",
            "Requirement already satisfied: decorator in /usr/local/lib/python3.7/dist-packages (from tensorflow-probability==0.17.0->tf-agents[reverb]) (4.4.2)\n",
            "Requirement already satisfied: portpicker in /usr/local/lib/python3.7/dist-packages (from dm-reverb~=0.9.0->tf-agents[reverb]) (1.3.9)\n",
            "Requirement already satisfied: importlib-metadata>=4.10.0 in /usr/local/lib/python3.7/dist-packages (from gym<=0.23.0,>=0.17.0->tf-agents[reverb]) (4.12.0)\n",
            "Requirement already satisfied: gym-notices>=0.0.4 in /usr/local/lib/python3.7/dist-packages (from gym<=0.23.0,>=0.17.0->tf-agents[reverb]) (0.0.8)\n",
            "Requirement already satisfied: zipp>=0.5 in /usr/local/lib/python3.7/dist-packages (from importlib-metadata>=4.10.0->gym<=0.23.0,>=0.17.0->tf-agents[reverb]) (3.8.1)\n",
            "Requirement already satisfied: tensorflow-io-gcs-filesystem>=0.23.1 in /usr/local/lib/python3.7/dist-packages (from tensorflow~=2.10.0->tf-agents[reverb]) (0.26.0)\n",
            "Requirement already satisfied: flatbuffers>=2.0 in /usr/local/lib/python3.7/dist-packages (from tensorflow~=2.10.0->tf-agents[reverb]) (2.0.7)\n",
            "Collecting tensorboard<2.11,>=2.10\n",
            "  Downloading tensorboard-2.10.0-py3-none-any.whl (5.9 MB)\n",
            "\u001b[K     |████████████████████████████████| 5.9 MB 32.8 MB/s \n",
            "\u001b[?25hCollecting keras<2.11,>=2.10.0\n",
            "  Downloading keras-2.10.0-py2.py3-none-any.whl (1.7 MB)\n",
            "\u001b[K     |████████████████████████████████| 1.7 MB 56.6 MB/s \n",
            "\u001b[?25hRequirement already satisfied: packaging in /usr/local/lib/python3.7/dist-packages (from tensorflow~=2.10.0->tf-agents[reverb]) (21.3)\n",
            "Collecting gast>=0.3.2\n",
            "  Downloading gast-0.4.0-py3-none-any.whl (9.8 kB)\n",
            "Requirement already satisfied: opt-einsum>=2.3.2 in /usr/local/lib/python3.7/dist-packages (from tensorflow~=2.10.0->tf-agents[reverb]) (3.3.0)\n",
            "Requirement already satisfied: grpcio<2.0,>=1.24.3 in /usr/local/lib/python3.7/dist-packages (from tensorflow~=2.10.0->tf-agents[reverb]) (1.47.0)\n",
            "Requirement already satisfied: astunparse>=1.6.0 in /usr/local/lib/python3.7/dist-packages (from tensorflow~=2.10.0->tf-agents[reverb]) (1.6.3)\n",
            "Collecting tensorflow-estimator<2.11,>=2.10.0\n",
            "  Downloading tensorflow_estimator-2.10.0-py2.py3-none-any.whl (438 kB)\n",
            "\u001b[K     |████████████████████████████████| 438 kB 65.2 MB/s \n",
            "\u001b[?25hRequirement already satisfied: libclang>=13.0.0 in /usr/local/lib/python3.7/dist-packages (from tensorflow~=2.10.0->tf-agents[reverb]) (14.0.6)\n",
            "Requirement already satisfied: h5py>=2.9.0 in /usr/local/lib/python3.7/dist-packages (from tensorflow~=2.10.0->tf-agents[reverb]) (3.1.0)\n",
            "Requirement already satisfied: termcolor>=1.1.0 in /usr/local/lib/python3.7/dist-packages (from tensorflow~=2.10.0->tf-agents[reverb]) (1.1.0)\n",
            "Requirement already satisfied: keras-preprocessing>=1.1.1 in /usr/local/lib/python3.7/dist-packages (from tensorflow~=2.10.0->tf-agents[reverb]) (1.1.2)\n",
            "Requirement already satisfied: setuptools in /usr/local/lib/python3.7/dist-packages (from tensorflow~=2.10.0->tf-agents[reverb]) (57.4.0)\n",
            "Requirement already satisfied: google-pasta>=0.1.1 in /usr/local/lib/python3.7/dist-packages (from tensorflow~=2.10.0->tf-agents[reverb]) (0.2.0)\n",
            "Requirement already satisfied: wheel<1.0,>=0.23.0 in /usr/local/lib/python3.7/dist-packages (from astunparse>=1.6.0->tensorflow~=2.10.0->tf-agents[reverb]) (0.37.1)\n",
            "Requirement already satisfied: cached-property in /usr/local/lib/python3.7/dist-packages (from h5py>=2.9.0->tensorflow~=2.10.0->tf-agents[reverb]) (1.5.2)\n",
            "Requirement already satisfied: werkzeug>=1.0.1 in /usr/local/lib/python3.7/dist-packages (from tensorboard<2.11,>=2.10->tensorflow~=2.10.0->tf-agents[reverb]) (1.0.1)\n",
            "Requirement already satisfied: tensorboard-plugin-wit>=1.6.0 in /usr/local/lib/python3.7/dist-packages (from tensorboard<2.11,>=2.10->tensorflow~=2.10.0->tf-agents[reverb]) (1.8.1)\n",
            "Requirement already satisfied: requests<3,>=2.21.0 in /usr/local/lib/python3.7/dist-packages (from tensorboard<2.11,>=2.10->tensorflow~=2.10.0->tf-agents[reverb]) (2.23.0)\n",
            "Requirement already satisfied: google-auth-oauthlib<0.5,>=0.4.1 in /usr/local/lib/python3.7/dist-packages (from tensorboard<2.11,>=2.10->tensorflow~=2.10.0->tf-agents[reverb]) (0.4.6)\n",
            "Requirement already satisfied: google-auth<3,>=1.6.3 in /usr/local/lib/python3.7/dist-packages (from tensorboard<2.11,>=2.10->tensorflow~=2.10.0->tf-agents[reverb]) (1.35.0)\n",
            "Requirement already satisfied: tensorboard-data-server<0.7.0,>=0.6.0 in /usr/local/lib/python3.7/dist-packages (from tensorboard<2.11,>=2.10->tensorflow~=2.10.0->tf-agents[reverb]) (0.6.1)\n",
            "Requirement already satisfied: markdown>=2.6.8 in /usr/local/lib/python3.7/dist-packages (from tensorboard<2.11,>=2.10->tensorflow~=2.10.0->tf-agents[reverb]) (3.4.1)\n",
            "Requirement already satisfied: pyasn1-modules>=0.2.1 in /usr/local/lib/python3.7/dist-packages (from google-auth<3,>=1.6.3->tensorboard<2.11,>=2.10->tensorflow~=2.10.0->tf-agents[reverb]) (0.2.8)\n",
            "Requirement already satisfied: cachetools<5.0,>=2.0.0 in /usr/local/lib/python3.7/dist-packages (from google-auth<3,>=1.6.3->tensorboard<2.11,>=2.10->tensorflow~=2.10.0->tf-agents[reverb]) (4.2.4)\n",
            "Requirement already satisfied: rsa<5,>=3.1.4 in /usr/local/lib/python3.7/dist-packages (from google-auth<3,>=1.6.3->tensorboard<2.11,>=2.10->tensorflow~=2.10.0->tf-agents[reverb]) (4.9)\n",
            "Requirement already satisfied: requests-oauthlib>=0.7.0 in /usr/local/lib/python3.7/dist-packages (from google-auth-oauthlib<0.5,>=0.4.1->tensorboard<2.11,>=2.10->tensorflow~=2.10.0->tf-agents[reverb]) (1.3.1)\n",
            "Requirement already satisfied: pyasn1<0.5.0,>=0.4.6 in /usr/local/lib/python3.7/dist-packages (from pyasn1-modules>=0.2.1->google-auth<3,>=1.6.3->tensorboard<2.11,>=2.10->tensorflow~=2.10.0->tf-agents[reverb]) (0.4.8)\n",
            "Requirement already satisfied: certifi>=2017.4.17 in /usr/local/lib/python3.7/dist-packages (from requests<3,>=2.21.0->tensorboard<2.11,>=2.10->tensorflow~=2.10.0->tf-agents[reverb]) (2022.6.15)\n",
            "Requirement already satisfied: idna<3,>=2.5 in /usr/local/lib/python3.7/dist-packages (from requests<3,>=2.21.0->tensorboard<2.11,>=2.10->tensorflow~=2.10.0->tf-agents[reverb]) (2.10)\n",
            "Requirement already satisfied: urllib3!=1.25.0,!=1.25.1,<1.26,>=1.21.1 in /usr/local/lib/python3.7/dist-packages (from requests<3,>=2.21.0->tensorboard<2.11,>=2.10->tensorflow~=2.10.0->tf-agents[reverb]) (1.24.3)\n",
            "Requirement already satisfied: chardet<4,>=3.0.2 in /usr/local/lib/python3.7/dist-packages (from requests<3,>=2.21.0->tensorboard<2.11,>=2.10->tensorflow~=2.10.0->tf-agents[reverb]) (3.0.4)\n",
            "Requirement already satisfied: oauthlib>=3.0.0 in /usr/local/lib/python3.7/dist-packages (from requests-oauthlib>=0.7.0->google-auth-oauthlib<0.5,>=0.4.1->tensorboard<2.11,>=2.10->tensorflow~=2.10.0->tf-agents[reverb]) (3.2.0)\n",
            "Requirement already satisfied: pyparsing!=3.0.5,>=2.0.2 in /usr/local/lib/python3.7/dist-packages (from packaging->tensorflow~=2.10.0->tf-agents[reverb]) (3.0.9)\n",
            "Building wheels for collected packages: gym\n",
            "  Building wheel for gym (PEP 517) ... \u001b[?25l\u001b[?25hdone\n",
            "  Created wheel for gym: filename=gym-0.23.0-py3-none-any.whl size=697660 sha256=f58ea7af19b59b677391ecada620b600401a61646d11b635ded70d58aa928972\n",
            "  Stored in directory: /root/.cache/pip/wheels/f0/7e/16/4d727df048fdb96518ec5c02266e55b98bc398837353852a6a\n",
            "Successfully built gym\n",
            "Installing collected packages: gast, tensorflow-probability, tensorflow-estimator, tensorboard, pygame, keras, gym, tf-agents, tensorflow, rlds, dm-reverb\n",
            "  Attempting uninstall: gast\n",
            "    Found existing installation: gast 0.5.3\n",
            "    Uninstalling gast-0.5.3:\n",
            "      Successfully uninstalled gast-0.5.3\n",
            "  Attempting uninstall: tensorflow-probability\n",
            "    Found existing installation: tensorflow-probability 0.16.0\n",
            "    Uninstalling tensorflow-probability-0.16.0:\n",
            "      Successfully uninstalled tensorflow-probability-0.16.0\n",
            "  Attempting uninstall: tensorflow-estimator\n",
            "    Found existing installation: tensorflow-estimator 2.8.0\n",
            "    Uninstalling tensorflow-estimator-2.8.0:\n",
            "      Successfully uninstalled tensorflow-estimator-2.8.0\n",
            "  Attempting uninstall: tensorboard\n",
            "    Found existing installation: tensorboard 2.8.0\n",
            "    Uninstalling tensorboard-2.8.0:\n",
            "      Successfully uninstalled tensorboard-2.8.0\n",
            "  Attempting uninstall: keras\n",
            "    Found existing installation: keras 2.8.0\n",
            "    Uninstalling keras-2.8.0:\n",
            "      Successfully uninstalled keras-2.8.0\n",
            "  Attempting uninstall: gym\n",
            "    Found existing installation: gym 0.25.2\n",
            "    Uninstalling gym-0.25.2:\n",
            "      Successfully uninstalled gym-0.25.2\n",
            "  Attempting uninstall: tensorflow\n",
            "    Found existing installation: tensorflow 2.8.2+zzzcolab20220719082949\n",
            "    Uninstalling tensorflow-2.8.2+zzzcolab20220719082949:\n",
            "      Successfully uninstalled tensorflow-2.8.2+zzzcolab20220719082949\n",
            "Successfully installed dm-reverb-0.9.0 gast-0.4.0 gym-0.23.0 keras-2.10.0 pygame-2.1.0 rlds-0.1.5 tensorboard-2.10.0 tensorflow-2.10.0 tensorflow-estimator-2.10.0 tensorflow-probability-0.17.0 tf-agents-0.14.0\n",
            "Looking in indexes: https://pypi.org/simple, https://us-python.pkg.dev/colab-wheels/public/simple/\n",
            "Collecting pyglet\n",
            "  Downloading pyglet-1.5.26-py3-none-any.whl (1.1 MB)\n",
            "\u001b[K     |████████████████████████████████| 1.1 MB 7.0 MB/s \n",
            "\u001b[?25hInstalling collected packages: pyglet\n",
            "Successfully installed pyglet-1.5.26\n"
          ]
        }
      ]
    },
    {
      "cell_type": "code",
      "source": [
        "from __future__ import absolute_import, division, print_function\n",
        "\n",
        "import base64\n",
        "import imageio\n",
        "import IPython\n",
        "import matplotlib\n",
        "import matplotlib.pyplot as plt\n",
        "import numpy as np\n",
        "import PIL.Image\n",
        "import pyvirtualdisplay\n",
        "import reverb\n",
        "\n",
        "import tensorflow as tf\n",
        "\n",
        "from tf_agents.agents.dqn import dqn_agent\n",
        "from tf_agents.drivers import py_driver\n",
        "from tf_agents.environments import suite_gym\n",
        "from tf_agents.environments import tf_py_environment\n",
        "from tf_agents.eval import metric_utils\n",
        "from tf_agents.metrics import tf_metrics\n",
        "from tf_agents.networks import sequential\n",
        "from tf_agents.policies import py_tf_eager_policy\n",
        "from tf_agents.policies import random_tf_policy\n",
        "from tf_agents.replay_buffers import reverb_replay_buffer\n",
        "from tf_agents.replay_buffers import reverb_utils\n",
        "from tf_agents.trajectories import trajectory\n",
        "from tf_agents.specs import tensor_spec\n",
        "from tf_agents.utils import common"
      ],
      "metadata": {
        "id": "dX-P-RzPdMvu"
      },
      "execution_count": null,
      "outputs": []
    },
    {
      "cell_type": "code",
      "source": [
        "display = pyvirtualdisplay.Display(visible=0, size=(1400, 900)).start()"
      ],
      "metadata": {
        "id": "Le3R-Iy0dabu"
      },
      "execution_count": null,
      "outputs": []
    },
    {
      "cell_type": "code",
      "source": [
        "num_iterations = 20000 \n",
        "\n",
        "initial_collect_steps = 100  \n",
        "collect_steps_per_iteration = 1   \n",
        "replay_buffer_max_length = 100000  \n",
        "\n",
        "batch_size = 64  \n",
        "learning_rate = 0.001  \n",
        "log_interval = 200 \n",
        "\n",
        "num_eval_episodes = 10\n",
        "eval_interval = 1000"
      ],
      "metadata": {
        "id": "86q5Ub6YdaZY"
      },
      "execution_count": null,
      "outputs": []
    },
    {
      "cell_type": "code",
      "source": [
        "env_name = 'CartPole-v0'\n",
        "env = suite_gym.load(env_name)"
      ],
      "metadata": {
        "id": "Aq0Cj3cpdaW4"
      },
      "execution_count": null,
      "outputs": []
    },
    {
      "cell_type": "code",
      "source": [
        "env.reset()\n",
        "PIL.Image.fromarray(env.render())"
      ],
      "metadata": {
        "colab": {
          "base_uri": "https://localhost:8080/",
          "height": 417
        },
        "id": "JzBmpdS8daTw",
        "outputId": "51233823-03ee-4e48-f327-0673c01c6844"
      },
      "execution_count": null,
      "outputs": [
        {
          "output_type": "execute_result",
          "data": {
            "text/plain": [
              "<PIL.Image.Image image mode=RGB size=600x400 at 0x7F924867EB10>"
            ],
            "image/png": "[encoded data removed]"
          },
          "metadata": {},
          "execution_count": 6
        }
      ]
    },
    {
      "cell_type": "code",
      "execution_count": null,
      "metadata": {
        "id": "wpVhiv72zMH4"
      },
      "outputs": [],
      "source": [
        "print('Observation spec:')\n",
        "print(env.time_step_spec().observation)"
      ]
    },
    {
      "cell_type": "code",
      "source": [
        "print('reward spec')\n",
        "print(env.time_step_spec().reward)"
      ],
      "metadata": {
        "colab": {
          "base_uri": "https://localhost:8080/"
        },
        "id": "z0cs9gzXzjqo",
        "outputId": "447dbe36-11cb-4b9c-adb0-c113d0f4b02f"
      },
      "execution_count": null,
      "outputs": [
        {
          "output_type": "stream",
          "name": "stdout",
          "text": [
            "reward spec\n",
            "ArraySpec(shape=(), dtype=dtype('float32'), name='reward')\n"
          ]
        }
      ]
    },
    {
      "cell_type": "code",
      "source": [
        "print('action spec:')\n",
        "print(env.action_spec())"
      ],
      "metadata": {
        "colab": {
          "base_uri": "https://localhost:8080/"
        },
        "id": "fHmLz1nxz_KU",
        "outputId": "97bc3fda-e7a1-4a92-d381-83cfb8c99a5e"
      },
      "execution_count": null,
      "outputs": [
        {
          "output_type": "stream",
          "name": "stdout",
          "text": [
            "action spec:\n",
            "BoundedArraySpec(shape=(), dtype=dtype('int64'), name='action', minimum=0, maximum=1)\n"
          ]
        }
      ]
    },
    {
      "cell_type": "code",
      "source": [
        "time_step = env.reset()\n",
        "print('time step:')\n",
        "print(time_step)\n",
        "\n",
        "action = np.array(1, dtype=np.int32)\n",
        "next_time_step = env.step(action)\n",
        "print('next time step')\n",
        "print(next_time_step)"
      ],
      "metadata": {
        "colab": {
          "base_uri": "https://localhost:8080/"
        },
        "id": "yfmV1ax80aXv",
        "outputId": "3ff32d9b-d74e-42e1-9082-92181fe94636"
      },
      "execution_count": null,
      "outputs": [
        {
          "output_type": "stream",
          "name": "stdout",
          "text": [
            "time step:\n",
            "TimeStep(\n",
            "{'discount': array(1., dtype=float32),\n",
            " 'observation': array([-0.03403301,  0.01027308, -0.01390739, -0.02852556], dtype=float32),\n",
            " 'reward': array(0., dtype=float32),\n",
            " 'step_type': array(0, dtype=int32)})\n",
            "next time step\n",
            "TimeStep(\n",
            "{'discount': array(1., dtype=float32),\n",
            " 'observation': array([-0.03382755,  0.20559168, -0.0144779 , -0.32556376], dtype=float32),\n",
            " 'reward': array(1., dtype=float32),\n",
            " 'step_type': array(1, dtype=int32)})\n"
          ]
        }
      ]
    },
    {
      "cell_type": "code",
      "source": [
        "train_py_env = suite_gym.load(env_name)\n",
        "eval_py_env = suite_gym.load(env_name)\n",
        "\n",
        "train_env = tf_py_environment.TFPyEnvironment(train_py_env)\n",
        "eval_env = tf_py_environment.TFPyEnvironment(eval_py_env)"
      ],
      "metadata": {
        "id": "Nd2UoEnp1qq-"
      },
      "execution_count": null,
      "outputs": []
    },
    {
      "cell_type": "code",
      "source": [
        "fc_layer_param = (100,50)\n",
        "action_tensor_spec = tensor_spec.from_spec(env.action_spec())\n",
        "num_actions = action_tensor_spec.maximum - action_tensor_spec.minimum + 1"
      ],
      "metadata": {
        "id": "CoTkStNW3nCm"
      },
      "execution_count": null,
      "outputs": []
    },
    {
      "cell_type": "code",
      "source": [
        "def dense(num_units):\n",
        "  return tf.keras.layers.Dense(units = num_units, activation = 'relu', kernel_initializer=tf.keras.initializers.VarianceScaling(scale=2.0, mode='fan_in', distribution='truncated_normal'))\n"
      ],
      "metadata": {
        "id": "99QAVlK247ap"
      },
      "execution_count": null,
      "outputs": []
    },
    {
      "cell_type": "code",
      "source": [
        "dense_layer = [dense(num_units) for num_units in fc_layer_param]\n",
        "q_values_layer = tf.keras.layers.Dense(num_actions, activation=None, kernel_initializer=tf.keras.initializers.RandomUniform(minval=-0.03, maxval=0.03), bias_initializer=tf.keras.initializers.Constant(-0.2))"
      ],
      "metadata": {
        "id": "UiqAnwEf61p_"
      },
      "execution_count": null,
      "outputs": []
    },
    {
      "cell_type": "code",
      "source": [
        "q_net = sequential.Sequential(dense_layer + [q_values_layer])"
      ],
      "metadata": {
        "id": "v0_oUamI8vWr"
      },
      "execution_count": null,
      "outputs": []
    },
    {
      "cell_type": "code",
      "source": [
        "optimizer = tf.keras.optimizers.Adam(learning_rate=learning_rate)\n",
        "train_step_counter = tf.Variable(0)\n",
        "\n",
        "agent = dqn_agent.DqnAgent(train_env.time_step_spec(),train_env.action_spec(), \n",
        "                           q_network = q_net, optimizer = optimizer,\n",
        "                           td_errors_loss_fn = common.element_wise_squared_loss,\n",
        "                           train_step_counter=train_step_counter)\n",
        "\n",
        "agent.initialize()"
      ],
      "metadata": {
        "id": "VLu8TEMj915R"
      },
      "execution_count": null,
      "outputs": []
    },
    {
      "cell_type": "code",
      "source": [
        "eval_policy = agent.policy\n",
        "collect_policy = agent.collect_policy\n",
        "\n",
        "random_policy = random_tf_policy.RandomTFPolicy(train_env.time_step_spec(), train_env.action_spec())"
      ],
      "metadata": {
        "id": "pZX-nJFI_nX-"
      },
      "execution_count": null,
      "outputs": []
    },
    {
      "cell_type": "code",
      "source": [
        "example_environment = tf_py_environment.TFPyEnvironment(suite_gym.load('CartPole-v0'))"
      ],
      "metadata": {
        "id": "fcDrrI1tAfwL"
      },
      "execution_count": null,
      "outputs": []
    },
    {
      "cell_type": "code",
      "source": [
        "time_step = example_environment.reset()"
      ],
      "metadata": {
        "id": "6Ej02qiWDMnX"
      },
      "execution_count": null,
      "outputs": []
    },
    {
      "cell_type": "code",
      "source": [
        "random_policy.action(time_step)"
      ],
      "metadata": {
        "colab": {
          "base_uri": "https://localhost:8080/"
        },
        "id": "lqgIDP89DNON",
        "outputId": "18761050-a2d7-4581-bad5-ce79fa104791"
      },
      "execution_count": null,
      "outputs": [
        {
          "output_type": "execute_result",
          "data": {
            "text/plain": [
              "PolicyStep(action=<tf.Tensor: shape=(1,), dtype=int64, numpy=array([0])>, state=(), info=())"
            ]
          },
          "metadata": {},
          "execution_count": 21
        }
      ]
    },
    {
      "cell_type": "code",
      "source": [
        "def compute_avg_return(environment, policy, num_episodes = 10):\n",
        "  total_return = 0.0\n",
        "  for n in range(num_episodes):\n",
        "    time_step = environment.reset()\n",
        "    episode_return = 0.0\n",
        "\n",
        "    while not time_step.is_last():\n",
        "      action_step = policy.action(time_step)\n",
        "      time_step = environment.step(action_step.action)\n",
        "      episode_return += time_step.reward\n",
        "    total_return +=episode_return\n",
        "  avg_return = total_return / num_episodes\n",
        "  return avg_return.numpy()[0]"
      ],
      "metadata": {
        "id": "2QeyBmpGDPfU"
      },
      "execution_count": null,
      "outputs": []
    },
    {
      "cell_type": "code",
      "source": [
        "compute_avg_return(eval_env, random_policy, num_eval_episodes)"
      ],
      "metadata": {
        "colab": {
          "base_uri": "https://localhost:8080/"
        },
        "id": "vzAQrz9XeDP-",
        "outputId": "608203ad-141a-41e4-8f9d-fad839bcfce4"
      },
      "execution_count": null,
      "outputs": [
        {
          "output_type": "execute_result",
          "data": {
            "text/plain": [
              "19.7"
            ]
          },
          "metadata": {},
          "execution_count": 23
        }
      ]
    },
    {
      "cell_type": "code",
      "source": [
        "table_name = 'uniform_table'\n",
        "replay_buffer_signature = tensor_spec.from_spec(agent.collect_data_spec)\n",
        "replay_buffer_signature = tensor_spec.add_outer_dim(replay_buffer_signature)\n",
        "\n",
        "table = reverb.Table(table_name, max_size=replay_buffer_max_length, sampler=reverb.selectors.Uniform(),\n",
        "                     remover=reverb.selectors.Fifo(), rate_limiter=reverb.rate_limiters.MinSize(1),\n",
        "                     signature=replay_buffer_signature)\n",
        "reverb_server = reverb.Server([table])\n",
        "replay_buffer = reverb_replay_buffer.ReverbReplayBuffer(agent.collect_data_spec, table_name=table_name,\n",
        "                                                        sequence_length =2, local_server = reverb_server)\n",
        "rb_observer = reverb_utils.ReverbAddTrajectoryObserver(replay_buffer.py_client, table_name, sequence_length=2)\n"
      ],
      "metadata": {
        "id": "7T4EiHz_f1YP"
      },
      "execution_count": null,
      "outputs": []
    },
    {
      "cell_type": "code",
      "source": [
        "agent.collect_data_spec"
      ],
      "metadata": {
        "colab": {
          "base_uri": "https://localhost:8080/"
        },
        "id": "poZv3OiOAr36",
        "outputId": "5f925bb0-298f-4330-b822-dc44c0e05fc0"
      },
      "execution_count": null,
      "outputs": [
        {
          "output_type": "execute_result",
          "data": {
            "text/plain": [
              "Trajectory(\n",
              "{'action': BoundedTensorSpec(shape=(), dtype=tf.int64, name='action', minimum=array(0), maximum=array(1)),\n",
              " 'discount': BoundedTensorSpec(shape=(), dtype=tf.float32, name='discount', minimum=array(0., dtype=float32), maximum=array(1., dtype=float32)),\n",
              " 'next_step_type': TensorSpec(shape=(), dtype=tf.int32, name='step_type'),\n",
              " 'observation': BoundedTensorSpec(shape=(4,), dtype=tf.float32, name='observation', minimum=array([-4.8000002e+00, -3.4028235e+38, -4.1887903e-01, -3.4028235e+38],\n",
              "      dtype=float32), maximum=array([4.8000002e+00, 3.4028235e+38, 4.1887903e-01, 3.4028235e+38],\n",
              "      dtype=float32)),\n",
              " 'policy_info': (),\n",
              " 'reward': TensorSpec(shape=(), dtype=tf.float32, name='reward'),\n",
              " 'step_type': TensorSpec(shape=(), dtype=tf.int32, name='step_type')})"
            ]
          },
          "metadata": {},
          "execution_count": 25
        }
      ]
    },
    {
      "cell_type": "code",
      "source": [
        "agent.collect_data_spec._fields"
      ],
      "metadata": {
        "colab": {
          "base_uri": "https://localhost:8080/"
        },
        "id": "26e-rkeJAv-9",
        "outputId": "45c58e6b-1a02-40e2-d657-17191792c877"
      },
      "execution_count": null,
      "outputs": [
        {
          "output_type": "execute_result",
          "data": {
            "text/plain": [
              "('step_type',\n",
              " 'observation',\n",
              " 'action',\n",
              " 'policy_info',\n",
              " 'next_step_type',\n",
              " 'reward',\n",
              " 'discount')"
            ]
          },
          "metadata": {},
          "execution_count": 26
        }
      ]
    },
    {
      "cell_type": "code",
      "source": [
        "py_driver.PyDriver(env,py_tf_eager_policy.PyTFEagerPolicy(random_policy, use_tf_function=True), \n",
        "                   [rb_observer], max_steps=initial_collect_steps).run(train_py_env.reset())"
      ],
      "metadata": {
        "colab": {
          "base_uri": "https://localhost:8080/"
        },
        "id": "BKORwsmiA0zR",
        "outputId": "6df5e46a-f47f-464f-ff11-7ccbe20879a4"
      },
      "execution_count": null,
      "outputs": [
        {
          "output_type": "execute_result",
          "data": {
            "text/plain": [
              "(TimeStep(\n",
              " {'discount': array(1., dtype=float32),\n",
              "  'observation': array([ 0.10001346,  0.6109619 , -0.04953569, -0.7202532 ], dtype=float32),\n",
              "  'reward': array(1., dtype=float32),\n",
              "  'step_type': array(1, dtype=int32)}), ())"
            ]
          },
          "metadata": {},
          "execution_count": 27
        }
      ]
    },
    {
      "cell_type": "code",
      "source": [
        "dataset = replay_buffer.as_dataset(num_parallel_calls = 3, sample_batch_size = batch_size, num_steps=2).prefetch(3)\n",
        "\n",
        "dataset"
      ],
      "metadata": {
        "colab": {
          "base_uri": "https://localhost:8080/"
        },
        "id": "ArFwDh57BVo1",
        "outputId": "e6bbc5f3-3280-48ec-8a2c-e95b1d7e980d"
      },
      "execution_count": null,
      "outputs": [
        {
          "output_type": "execute_result",
          "data": {
            "text/plain": [
              "<PrefetchDataset element_spec=(Trajectory(\n",
              "{'action': TensorSpec(shape=(64, 2), dtype=tf.int64, name=None),\n",
              " 'discount': TensorSpec(shape=(64, 2), dtype=tf.float32, name=None),\n",
              " 'next_step_type': TensorSpec(shape=(64, 2), dtype=tf.int32, name=None),\n",
              " 'observation': TensorSpec(shape=(64, 2, 4), dtype=tf.float32, name=None),\n",
              " 'policy_info': (),\n",
              " 'reward': TensorSpec(shape=(64, 2), dtype=tf.float32, name=None),\n",
              " 'step_type': TensorSpec(shape=(64, 2), dtype=tf.int32, name=None)}), SampleInfo(key=TensorSpec(shape=(64, 2), dtype=tf.uint64, name=None), probability=TensorSpec(shape=(64, 2), dtype=tf.float64, name=None), table_size=TensorSpec(shape=(64, 2), dtype=tf.int64, name=None), priority=TensorSpec(shape=(64, 2), dtype=tf.float64, name=None), times_sampled=TensorSpec(shape=(64, 2), dtype=tf.int32, name=None)))>"
            ]
          },
          "metadata": {},
          "execution_count": 28
        }
      ]
    },
    {
      "cell_type": "code",
      "source": [
        "iterator = iter(dataset)\n",
        "print(iterator)"
      ],
      "metadata": {
        "colab": {
          "base_uri": "https://localhost:8080/"
        },
        "id": "XmeCOhP1DOGQ",
        "outputId": "02843c31-8210-4238-e3f9-32864eedc42c"
      },
      "execution_count": null,
      "outputs": [
        {
          "output_type": "stream",
          "name": "stdout",
          "text": [
            "<tensorflow.python.data.ops.iterator_ops.OwnedIterator object at 0x7f92198217d0>\n"
          ]
        }
      ]
    },
    {
      "cell_type": "markdown",
      "source": [
        "тренировка агента"
      ],
      "metadata": {
        "id": "FWAtEdZ3DZ9F"
      }
    },
    {
      "cell_type": "code",
      "source": [
        "try:\n",
        "  %%time\n",
        "except:\n",
        "  pass\n",
        "\n",
        "agent.train = common.function(agent.train)\n",
        "agent.train_step_counter.assign(0)\n",
        "\n",
        "avg_return = compute_avg_return(eval_env, agent.policy, num_eval_episodes)\n",
        "returns = [avg_return]\n",
        "\n",
        "time_step = train_py_env.reset()\n",
        "\n",
        "collect_driver = py_driver.PyDriver(env, py_tf_eager_policy.PyTFEagerPolicy(agent.collect_policy, use_tf_function=True),\n",
        " [rb_observer], max_steps=collect_steps_per_iteration)\n",
        "\n",
        "for i in range(num_iterations):\n",
        "  time_step, i = collect_driver.run(time_step)\n",
        "  expirience, unused_info = next(iterator)\n",
        "  train_loss = agent.train(expirience).loss\n",
        "  \n",
        "  step = agent.train_step_counter.numpy()\n",
        "\n",
        "  if step% log_interval == 0:\n",
        "    print('шаг = {0}: ошибка = {1}'.format(step,train_loss))\n",
        "  if step% eval_interval == 0:\n",
        "    avg_return = compute_avg_return(eval_env, agent.policy, num_eval_episodes)\n",
        "    print('шаг = {0}: средний возврат = {1}'.format(step, avg_return))\n",
        "    returns.append(avg_return)\n"
      ],
      "metadata": {
        "colab": {
          "base_uri": "https://localhost:8080/"
        },
        "id": "vZgFDQ-NDP14",
        "outputId": "2d732f4b-afde-4fbd-9eff-a1eccc714e30"
      },
      "execution_count": null,
      "outputs": [
        {
          "output_type": "stream",
          "name": "stdout",
          "text": [
            "шаг = 200: ошибка = 318061.21875\n",
            "шаг = 400: ошибка = 5900.64990234375\n",
            "шаг = 600: ошибка = 263692.28125\n",
            "шаг = 800: ошибка = 6856.23681640625\n",
            "шаг = 1000: ошибка = 3240.32568359375\n",
            "шаг = 1000: средний возврат = 200.0\n",
            "шаг = 1200: ошибка = 13069.689453125\n",
            "шаг = 1400: ошибка = 3829.72509765625\n",
            "шаг = 1600: ошибка = 816.5556030273438\n",
            "шаг = 1800: ошибка = 1667.3050537109375\n",
            "шаг = 2000: ошибка = 1660.353271484375\n",
            "шаг = 2000: средний возврат = 200.0\n",
            "шаг = 2200: ошибка = 844.78515625\n",
            "шаг = 2400: ошибка = 1617.0079345703125\n",
            "шаг = 2600: ошибка = 494.42486572265625\n",
            "шаг = 2800: ошибка = 862.6232299804688\n",
            "шаг = 3000: ошибка = 455.92083740234375\n",
            "шаг = 3000: средний возврат = 200.0\n",
            "шаг = 3200: ошибка = 755.5277099609375\n",
            "шаг = 3400: ошибка = 522.607666015625\n",
            "шаг = 3600: ошибка = 1011.4451293945312\n",
            "шаг = 3800: ошибка = 1240.401611328125\n",
            "шаг = 4000: ошибка = 673.7269897460938\n",
            "шаг = 4000: средний возврат = 200.0\n",
            "шаг = 4200: ошибка = 1817.9886474609375\n",
            "шаг = 4400: ошибка = 1885.0980224609375\n",
            "шаг = 4600: ошибка = 811.289794921875\n",
            "шаг = 4800: ошибка = 894.075927734375\n",
            "шаг = 5000: ошибка = 1178.53955078125\n",
            "шаг = 5000: средний возврат = 200.0\n",
            "шаг = 5200: ошибка = 136975.578125\n",
            "шаг = 5400: ошибка = 1517.546630859375\n",
            "шаг = 5600: ошибка = 1969.76953125\n",
            "шаг = 5800: ошибка = 1128.7164306640625\n",
            "шаг = 6000: ошибка = 5997.5009765625\n",
            "шаг = 6000: средний возврат = 200.0\n",
            "шаг = 6200: ошибка = 4415.82763671875\n",
            "шаг = 6400: ошибка = 6753.73779296875\n",
            "шаг = 6600: ошибка = 851887.625\n",
            "шаг = 6800: ошибка = 1554155.0\n",
            "шаг = 7000: ошибка = 31927.1328125\n",
            "шаг = 7000: средний возврат = 200.0\n",
            "шаг = 7200: ошибка = 3493769.5\n",
            "шаг = 7400: ошибка = 21473.66015625\n",
            "шаг = 7600: ошибка = 43151.8359375\n",
            "шаг = 7800: ошибка = 2016983.0\n",
            "шаг = 8000: ошибка = 97672.484375\n",
            "шаг = 8000: средний возврат = 200.0\n",
            "шаг = 8200: ошибка = 12933.19921875\n",
            "шаг = 8400: ошибка = 25455.80078125\n",
            "шаг = 8600: ошибка = 20316.775390625\n",
            "шаг = 8800: ошибка = 17520.8125\n",
            "шаг = 9000: ошибка = 753117.8125\n",
            "шаг = 9000: средний возврат = 200.0\n",
            "шаг = 9200: ошибка = 10978.806640625\n",
            "шаг = 9400: ошибка = 6475.4921875\n",
            "шаг = 9600: ошибка = 720450.375\n",
            "шаг = 9800: ошибка = 23666.08203125\n",
            "шаг = 10000: ошибка = 833774.0\n",
            "шаг = 10000: средний возврат = 200.0\n",
            "шаг = 10200: ошибка = 30985.25390625\n",
            "шаг = 10400: ошибка = 18175.07421875\n",
            "шаг = 10600: ошибка = 7389.3427734375\n",
            "шаг = 10800: ошибка = 453410.625\n",
            "шаг = 11000: ошибка = 680480.3125\n",
            "шаг = 11000: средний возврат = 200.0\n",
            "шаг = 11200: ошибка = 6057.25146484375\n",
            "шаг = 11400: ошибка = 8258.0458984375\n",
            "шаг = 11600: ошибка = 1982.71630859375\n",
            "шаг = 11800: ошибка = 7165.037109375\n",
            "шаг = 12000: ошибка = 752184.125\n",
            "шаг = 12000: средний возврат = 200.0\n",
            "шаг = 12200: ошибка = 143425.296875\n",
            "шаг = 12400: ошибка = 3177.493408203125\n",
            "шаг = 12600: ошибка = 3321.41943359375\n",
            "шаг = 12800: ошибка = 3194.889892578125\n",
            "шаг = 13000: ошибка = 1748.05810546875\n",
            "шаг = 13000: средний возврат = 200.0\n",
            "шаг = 13200: ошибка = 132306.578125\n",
            "шаг = 13400: ошибка = 1664.294921875\n",
            "шаг = 13600: ошибка = 1611.438720703125\n",
            "шаг = 13800: ошибка = 1609.444091796875\n",
            "шаг = 14000: ошибка = 5608.287109375\n",
            "шаг = 14000: средний возврат = 200.0\n",
            "шаг = 14200: ошибка = 2380.4404296875\n",
            "шаг = 14400: ошибка = 1441.6014404296875\n",
            "шаг = 14600: ошибка = 103419.0390625\n",
            "шаг = 14800: ошибка = 2291.64013671875\n",
            "шаг = 15000: ошибка = 40294.25\n",
            "шаг = 15000: средний возврат = 200.0\n",
            "шаг = 15200: ошибка = 146907.75\n",
            "шаг = 15400: ошибка = 1238.049560546875\n",
            "шаг = 15600: ошибка = 955.78515625\n",
            "шаг = 15800: ошибка = 2783.87451171875\n",
            "шаг = 16000: ошибка = 1206.199951171875\n",
            "шаг = 16000: средний возврат = 200.0\n",
            "шаг = 16200: ошибка = 2619.891845703125\n",
            "шаг = 16400: ошибка = 365286.03125\n",
            "шаг = 16600: ошибка = 505392.8125\n",
            "шаг = 16800: ошибка = 733038.8125\n",
            "шаг = 17000: ошибка = 21484.689453125\n",
            "шаг = 17000: средний возврат = 200.0\n",
            "шаг = 17200: ошибка = 51595.48046875\n",
            "шаг = 17400: ошибка = 42942.78125\n",
            "шаг = 17600: ошибка = 75851.421875\n",
            "шаг = 17800: ошибка = 111072.7734375\n",
            "шаг = 18000: ошибка = 82631.2265625\n",
            "шаг = 18000: средний возврат = 200.0\n",
            "шаг = 18200: ошибка = 80411.09375\n",
            "шаг = 18400: ошибка = 69607.46875\n",
            "шаг = 18600: ошибка = 104648.2421875\n",
            "шаг = 18800: ошибка = 183752.09375\n",
            "шаг = 19000: ошибка = 2769800.25\n",
            "шаг = 19000: средний возврат = 200.0\n",
            "шаг = 19200: ошибка = 119911.1015625\n",
            "шаг = 19400: ошибка = 69928.6796875\n",
            "шаг = 19600: ошибка = 7894461.0\n",
            "шаг = 19800: ошибка = 78025.578125\n",
            "шаг = 20000: ошибка = 6919686.5\n",
            "шаг = 20000: средний возврат = 200.0\n"
          ]
        }
      ]
    },
    {
      "cell_type": "code",
      "source": [
        "iterations = range(0, num_iterations + 1, eval_interval)\n",
        "plt.plot(iterations, returns)\n",
        "plt.ylabel('Average Return')\n",
        "plt.xlabel('Iterations')\n",
        "plt.ylim(top=250)"
      ],
      "metadata": {
        "colab": {
          "base_uri": "https://localhost:8080/",
          "height": 300
        },
        "id": "oTckEhq_EzQP",
        "outputId": "57cf17cb-a594-478b-9ba4-94734dfe1624"
      },
      "execution_count": null,
      "outputs": [
        {
          "output_type": "execute_result",
          "data": {
            "text/plain": [
              "(194.6449935913086, 250.0)"
            ]
          },
          "metadata": {},
          "execution_count": 35
        },
        {
          "output_type": "display_data",
          "data": {
            "text/plain": [
              "<Figure size 432x288 with 1 Axes>"
            ],
            "image/png": "[encoded data removed]"
          },
          "metadata": {
            "needs_background": "light"
          }
        }
      ]
    },
    {
      "cell_type": "code",
      "source": [
        "def embed_mp4(filename):\n",
        "  \"\"\"Embeds an mp4 file in the notebook.\"\"\"\n",
        "  video = open(filename,'rb').read()\n",
        "  b64 = base64.b64encode(video)\n",
        "  tag = '''\n",
        "  <video width=\"640\" height=\"480\" controls>\n",
        "    <source src=\"data:video/mp4;base64,{0}\" type=\"video/mp4\">\n",
        "  Your browser does not support the video tag.\n",
        "  </video>'''.format(b64.decode())\n",
        "\n",
        "  return IPython.display.HTML(tag)"
      ],
      "metadata": {
        "id": "saIB_G0AGvXE"
      },
      "execution_count": null,
      "outputs": []
    },
    {
      "cell_type": "code",
      "source": [
        "def create_policy_eval_video(policy, filename, num_episodes=5, fps=30):\n",
        "  filename = filename + \".mp4\"\n",
        "  with imageio.get_writer(filename, fps=fps) as video:\n",
        "    for _ in range(num_episodes):\n",
        "      time_step = eval_env.reset()\n",
        "      video.append_data(eval_py_env.render())\n",
        "      while not time_step.is_last():\n",
        "        action_step = policy.action(time_step)\n",
        "        time_step = eval_env.step(action_step.action)\n",
        "        video.append_data(eval_py_env.render())\n",
        "  return embed_mp4(filename)\n",
        "\n",
        "create_policy_eval_video(agent.policy, \"trained-agent\")"
      ],
      "metadata": {
        "colab": {
          "base_uri": "https://localhost:8080/",
          "height": 539
        },
        "id": "gglOgXafGx14",
        "outputId": "319a8c66-71b6-4532-e79f-3b532a151459"
      },
      "execution_count": null,
      "outputs": [
        {
          "output_type": "stream",
          "name": "stderr",
          "text": [
            "WARNING:root:IMAGEIO FFMPEG_WRITER WARNING: input image is not divisible by macro_block_size=16, resizing from (400, 600) to (400, 608) to ensure video compatibility with most codecs and players. To prevent resizing, make your input image divisible by the macro_block_size or set the macro_block_size to None (risking incompatibility). You may also see a FFMPEG warning concerning speedloss due to data not being aligned.\n"
          ]
        },
        {
          "output_type": "execute_result",
          "data": {
            "text/plain": [
              "<IPython.core.display.HTML object>"
            ],
            "text/html": [
              "\n",
              "  <video width=\"640\" height=\"480\" controls>\n",
              "    <source src=\"data:video/mp4;base64,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\" type=\"video/mp4\">\n",
              "  Your browser does not support the video tag.\n",
              "  </video>"
            ]
          },
          "metadata": {},
          "execution_count": 37
        }
      ]
    }
  ]
}